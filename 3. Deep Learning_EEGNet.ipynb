{
  "nbformat": 4,
  "nbformat_minor": 0,
  "metadata": {
    "colab": {
      "provenance": [],
      "gpuType": "T4",
      "toc_visible": true
    },
    "kernelspec": {
      "name": "python3",
      "display_name": "Python 3"
    },
    "language_info": {
      "name": "python"
    },
    "accelerator": "GPU"
  },
  "cells": [
    {
      "cell_type": "markdown",
      "source": [
        "## Adapted from original EEGNet implementation (EEGModels.py)"
      ],
      "metadata": {
        "id": "bog_U0PUa5gh"
      }
    },
    {
      "cell_type": "code",
      "execution_count": null,
      "metadata": {
        "id": "o9uGD3D115Ty"
      },
      "outputs": [],
      "source": [
        "\"\"\"\n",
        " ARL_EEGModels - A collection of Convolutional Neural Network models for EEG\n",
        " Signal Processing and Classification, using Keras and Tensorflow\n",
        "\n",
        " Requirements:\n",
        "    (1) tensorflow == 2.X (as of this writing, 2.0 - 2.3 have been verified\n",
        "        as working)\n",
        "\n",
        " To run the EEG/MEG ERP classification sample script, you will also need\n",
        "\n",
        "    (4) mne >= 0.17.1\n",
        "    (5) PyRiemann >= 0.2.5\n",
        "    (6) scikit-learn >= 0.20.1\n",
        "    (7) matplotlib >= 2.2.3\n",
        "\n",
        " To use:\n",
        "\n",
        "    (1) Place this file in the PYTHONPATH variable in your IDE (i.e.: Spyder)\n",
        "    (2) Import the model as\n",
        "\n",
        "        from EEGModels import EEGNet\n",
        "\n",
        "        model = EEGNet(nb_classes = ..., Chans = ..., Samples = ...)\n",
        "\n",
        "    (3) Then compile and fit the model\n",
        "\n",
        "        model.compile(loss = ..., optimizer = ..., metrics = ...)\n",
        "        fitted    = model.fit(...)\n",
        "        predicted = model.predict(...)\n",
        "\n",
        " Portions of this project are works of the United States Government and are not\n",
        " subject to domestic copyright protection under 17 USC Sec. 105.  Those\n",
        " portions are released world-wide under the terms of the Creative Commons Zero\n",
        " 1.0 (CC0) license.\n",
        "\n",
        " Other portions of this project are subject to domestic copyright protection\n",
        " under 17 USC Sec. 105.  Those portions are licensed under the Apache 2.0\n",
        " license.  The complete text of the license governing this material is in\n",
        " the file labeled LICENSE.TXT that is a part of this project's official\n",
        " distribution.\n",
        "\"\"\"\n",
        "\n",
        "from tensorflow.keras.models import Model\n",
        "from tensorflow.keras.layers import Dense, Activation, Permute, Dropout\n",
        "from tensorflow.keras.layers import Conv2D, MaxPooling2D, AveragePooling2D\n",
        "from tensorflow.keras.layers import SeparableConv2D, DepthwiseConv2D\n",
        "from tensorflow.keras.layers import BatchNormalization\n",
        "from tensorflow.keras.layers import SpatialDropout2D\n",
        "from tensorflow.keras.regularizers import l1_l2\n",
        "from tensorflow.keras.layers import Input, Flatten\n",
        "from tensorflow.keras.constraints import max_norm\n",
        "from tensorflow.keras import backend as K\n",
        "\n",
        "\n",
        "def EEGNet(nb_classes, Chans = 64, Samples = 128,\n",
        "             dropoutRate = 0.5, kernLength = 64, F1 = 8,\n",
        "             D = 2, F2 = 16, norm_rate = 0.25, dropoutType = 'Dropout'):\n",
        "    \"\"\" Keras Implementation of EEGNet\n",
        "    http://iopscience.iop.org/article/10.1088/1741-2552/aace8c/meta\n",
        "\n",
        "    Note that this implements the newest version of EEGNet and NOT the earlier\n",
        "    version (version v1 and v2 on arxiv). We strongly recommend using this\n",
        "    architecture as it performs much better and has nicer properties than\n",
        "    our earlier version. For example:\n",
        "\n",
        "        1. Depthwise Convolutions to learn spatial filters within a\n",
        "        temporal convolution. The use of the depth_multiplier option maps\n",
        "        exactly to the number of spatial filters learned within a temporal\n",
        "        filter. This matches the setup of algorithms like FBCSP which learn\n",
        "        spatial filters within each filter in a filter-bank. This also limits\n",
        "        the number of free parameters to fit when compared to a fully-connected\n",
        "        convolution.\n",
        "\n",
        "        2. Separable Convolutions to learn how to optimally combine spatial\n",
        "        filters across temporal bands. Separable Convolutions are Depthwise\n",
        "        Convolutions followed by (1x1) Pointwise Convolutions.\n",
        "\n",
        "\n",
        "    While the original paper used Dropout, we found that SpatialDropout2D\n",
        "    sometimes produced slightly better results for classification of ERP\n",
        "    signals. However, SpatialDropout2D significantly reduced performance\n",
        "    on the Oscillatory dataset (SMR, BCI-IV Dataset 2A). We recommend using\n",
        "    the default Dropout in most cases.\n",
        "\n",
        "    Assumes the input signal is sampled at 128Hz. If you want to use this model\n",
        "    for any other sampling rate you will need to modify the lengths of temporal\n",
        "    kernels and average pooling size in blocks 1 and 2 as needed (double the\n",
        "    kernel lengths for double the sampling rate, etc). Note that we haven't\n",
        "    tested the model performance with this rule so this may not work well.\n",
        "\n",
        "    The model with default parameters gives the EEGNet-8,2 model as discussed\n",
        "    in the paper. This model should do pretty well in general, although it is\n",
        "\tadvised to do some model searching to get optimal performance on your\n",
        "\tparticular dataset.\n",
        "\n",
        "    We set F2 = F1 * D (number of input filters = number of output filters) for\n",
        "    the SeparableConv2D layer. We haven't extensively tested other values of this\n",
        "    parameter (say, F2 < F1 * D for compressed learning, and F2 > F1 * D for\n",
        "    overcomplete). We believe the main parameters to focus on are F1 and D.\n",
        "\n",
        "    Inputs:\n",
        "\n",
        "      nb_classes      : int, number of classes to classify\n",
        "      Chans, Samples  : number of channels and time points in the EEG data\n",
        "      dropoutRate     : dropout fraction\n",
        "      kernLength      : length of temporal convolution in first layer. We found\n",
        "                        that setting this to be half the sampling rate worked\n",
        "                        well in practice. For the SMR dataset in particular\n",
        "                        since the data was high-passed at 4Hz we used a kernel\n",
        "                        length of 32.\n",
        "      F1, F2          : number of temporal filters (F1) and number of pointwise\n",
        "                        filters (F2) to learn. Default: F1 = 8, F2 = F1 * D.\n",
        "      D               : number of spatial filters to learn within each temporal\n",
        "                        convolution. Default: D = 2\n",
        "      dropoutType     : Either SpatialDropout2D or Dropout, passed as a string.\n",
        "\n",
        "    \"\"\"\n",
        "\n",
        "    if dropoutType == 'SpatialDropout2D':\n",
        "        dropoutType = SpatialDropout2D\n",
        "    elif dropoutType == 'Dropout':\n",
        "        dropoutType = Dropout\n",
        "    else:\n",
        "        raise ValueError('dropoutType must be one of SpatialDropout2D '\n",
        "                         'or Dropout, passed as a string.')\n",
        "\n",
        "    input1   = Input(shape = (Chans, Samples, 1))\n",
        "\n",
        "    ##################################################################\n",
        "    block1       = Conv2D(F1, (1, kernLength), padding = 'same',\n",
        "                                   input_shape = (Chans, Samples, 1),\n",
        "                                   use_bias = False)(input1)\n",
        "    block1       = BatchNormalization()(block1)\n",
        "    block1       = DepthwiseConv2D((Chans, 1), use_bias = False,\n",
        "                                   depth_multiplier = D,\n",
        "                                   depthwise_constraint = max_norm(1.))(block1)\n",
        "    block1       = BatchNormalization()(block1)\n",
        "    block1       = Activation('elu')(block1)\n",
        "    block1       = AveragePooling2D((1, 4))(block1)\n",
        "    block1       = dropoutType(dropoutRate)(block1)\n",
        "\n",
        "    block2       = SeparableConv2D(F2, (1, 16),\n",
        "                                   use_bias = False, padding = 'same')(block1)\n",
        "    block2       = BatchNormalization()(block2)\n",
        "    block2       = Activation('elu')(block2)\n",
        "    block2       = AveragePooling2D((1, 8))(block2)\n",
        "    block2       = dropoutType(dropoutRate)(block2)\n",
        "\n",
        "    flatten      = Flatten(name = 'flatten')(block2)\n",
        "\n",
        "    dense        = Dense(nb_classes, name = 'dense',\n",
        "                         kernel_constraint = max_norm(norm_rate))(flatten)\n",
        "    softmax      = Activation('softmax', name = 'softmax')(dense)\n",
        "\n",
        "    return Model(inputs=input1, outputs=softmax)"
      ]
    },
    {
      "cell_type": "code",
      "source": [
        "from google.colab import drive\n",
        "drive.mount('/content/drive')"
      ],
      "metadata": {
        "colab": {
          "base_uri": "https://localhost:8080/"
        },
        "id": "jtDWfBuKB2zc",
        "outputId": "7b1b0221-0fe7-4567-b377-ed111e35ed8d"
      },
      "execution_count": null,
      "outputs": [
        {
          "output_type": "stream",
          "name": "stdout",
          "text": [
            "Mounted at /content/drive\n"
          ]
        }
      ]
    },
    {
      "cell_type": "markdown",
      "source": [
        "##Import Packages"
      ],
      "metadata": {
        "id": "zJktOCd_bVk-"
      }
    },
    {
      "cell_type": "code",
      "source": [
        "import sys\n",
        "sys.path.append('/content/drive/MyDrive/Brainhack')\n",
        "\n",
        "\n",
        "from EEGModels import EEGNet       # import EEGNET model from EEGModels.py\n",
        "\n",
        "from tensorflow.keras.utils import to_categorical\n",
        "from tensorflow.keras.optimizers import Adam\n",
        "from sklearn.model_selection import train_test_split"
      ],
      "metadata": {
        "id": "Ik1uZs2zUEnN"
      },
      "execution_count": null,
      "outputs": []
    },
    {
      "cell_type": "markdown",
      "source": [
        "## Load Preprocessed Data and Labels"
      ],
      "metadata": {
        "id": "Ht6yvFeQbYBe"
      }
    },
    {
      "cell_type": "code",
      "source": [
        "import numpy as np\n",
        "\n",
        "# import X and Y data\n",
        "X_epochs = np.load(\"/content/drive/MyDrive/Brainhack/Copy of X_epochs_data.npy\")         # shape: n_epochs=4308, n_channels=19, n_times=1025\n",
        "X_features = np.load(\"/content/drive/MyDrive/Brainhack/Copy of X_features.npy\")          # shape: n_epochs=4308, n_bandpower_features=95\n",
        "y_labels = np.load(\"/content/drive/MyDrive/Brainhack/Copy of y_epoch_labels.npy\")        # shape: n_epochs=4308,\n",
        "\n",
        "print(X_epochs.shape)\n",
        "print(X_features.shape)\n",
        "print(y_labels.shape)"
      ],
      "metadata": {
        "colab": {
          "base_uri": "https://localhost:8080/"
        },
        "id": "ElB0R-3-brJW",
        "outputId": "90cd423a-acab-43a8-cb5f-30307f80c4cc"
      },
      "execution_count": null,
      "outputs": [
        {
          "output_type": "stream",
          "name": "stdout",
          "text": [
            "(4308, 19, 1025)\n",
            "(4308, 95)\n",
            "(4308,)\n"
          ]
        }
      ]
    },
    {
      "cell_type": "code",
      "source": [
        "X = X_epochs.reshape(X_epochs.shape[0], X_epochs.shape[1], X_epochs.shape[2], 1)\n",
        "\n",
        "y = to_categorical(y_labels)"
      ],
      "metadata": {
        "id": "okl31RNgUj3-"
      },
      "execution_count": null,
      "outputs": []
    },
    {
      "cell_type": "code",
      "source": [
        "def EEGNet(nb_classes, Chans = 64, Samples = 128,\n",
        "             dropoutRate = 0.5, kernLength = 64, F1 = 8,\n",
        "             D = 2, F2 = 16, norm_rate = 0.25, dropoutType = 'Dropout'):"
      ],
      "metadata": {
        "id": "hXOfZwsAUjRf"
      },
      "execution_count": null,
      "outputs": []
    },
    {
      "cell_type": "code",
      "source": [
        "from sklearn.model_selection import train_test_split\n",
        "\n",
        "X_train, X_val, y_train, y_val = train_test_split(\n",
        "    X,\n",
        "    y,\n",
        "    test_size=0.4,     # train size:validation size = 60:40\n",
        "    shuffle=True,\n",
        "    stratify=y_labels,\n",
        "    random_state=123\n",
        ")\n",
        "\n",
        "print(\"Train size:\", len(X_train))    # Train size: 2584\n",
        "print(\"Validation size:\", len(X_val))    # Validation size: 1724"
      ],
      "metadata": {
        "colab": {
          "base_uri": "https://localhost:8080/"
        },
        "id": "VsOOyS87c75h",
        "outputId": "bad0297e-867b-4b13-ae11-1e26059d26a1"
      },
      "execution_count": null,
      "outputs": [
        {
          "output_type": "stream",
          "name": "stdout",
          "text": [
            "Train size: 2584\n",
            "Validation size: 1724\n"
          ]
        }
      ]
    },
    {
      "cell_type": "code",
      "source": [
        "model = EEGNet(nb_classes=2, Chans=X.shape[1], Samples=X.shape[2],\n",
        "               dropoutRate=0.25, kernLength=64, F1=8, D=4, F2=32,\n",
        "               norm_rate=0.25, dropoutType='Dropout')\n",
        "\n",
        "model.compile(loss='categorical_crossentropy',\n",
        "              optimizer=Adam(learning_rate=0.001),\n",
        "              metrics=['accuracy'])\n",
        "\n",
        "from tensorflow.keras.callbacks import EarlyStopping\n",
        "early_stop = EarlyStopping(monitor='val_accuracy', patience=10, restore_best_weights=True)\n",
        "\n",
        "history = model.fit(X_train, y_train,\n",
        "                    batch_size=32,\n",
        "                    epochs=100,\n",
        "                    verbose=1,\n",
        "                    validation_data=(X_val, y_val))\n"
      ],
      "metadata": {
        "colab": {
          "base_uri": "https://localhost:8080/"
        },
        "id": "QKGsu4SvU-t7",
        "outputId": "98fb3dc3-e3ee-492c-de4a-b8ed81a580b6"
      },
      "execution_count": null,
      "outputs": [
        {
          "output_type": "stream",
          "name": "stdout",
          "text": [
            "Epoch 1/100\n",
            "\u001b[1m81/81\u001b[0m \u001b[32m━━━━━━━━━━━━━━━━━━━━\u001b[0m\u001b[37m\u001b[0m \u001b[1m12s\u001b[0m 69ms/step - accuracy: 0.4778 - loss: 0.6932 - val_accuracy: 0.5070 - val_loss: 0.6931\n",
            "Epoch 2/100\n",
            "\u001b[1m81/81\u001b[0m \u001b[32m━━━━━━━━━━━━━━━━━━━━\u001b[0m\u001b[37m\u001b[0m \u001b[1m1s\u001b[0m 16ms/step - accuracy: 0.5631 - loss: 0.6900 - val_accuracy: 0.5070 - val_loss: 0.6931\n",
            "Epoch 3/100\n",
            "\u001b[1m81/81\u001b[0m \u001b[32m━━━━━━━━━━━━━━━━━━━━\u001b[0m\u001b[37m\u001b[0m \u001b[1m1s\u001b[0m 14ms/step - accuracy: 0.6419 - loss: 0.6458 - val_accuracy: 0.5070 - val_loss: 0.7852\n",
            "Epoch 4/100\n",
            "\u001b[1m81/81\u001b[0m \u001b[32m━━━━━━━━━━━━━━━━━━━━\u001b[0m\u001b[37m\u001b[0m \u001b[1m1s\u001b[0m 15ms/step - accuracy: 0.8069 - loss: 0.4590 - val_accuracy: 0.5070 - val_loss: 1.0339\n",
            "Epoch 5/100\n",
            "\u001b[1m81/81\u001b[0m \u001b[32m━━━━━━━━━━━━━━━━━━━━\u001b[0m\u001b[37m\u001b[0m \u001b[1m2s\u001b[0m 13ms/step - accuracy: 0.8520 - loss: 0.3768 - val_accuracy: 0.5081 - val_loss: 1.3776\n",
            "Epoch 6/100\n",
            "\u001b[1m81/81\u001b[0m \u001b[32m━━━━━━━━━━━━━━━━━━━━\u001b[0m\u001b[37m\u001b[0m \u001b[1m1s\u001b[0m 13ms/step - accuracy: 0.8685 - loss: 0.3470 - val_accuracy: 0.4930 - val_loss: 0.7627\n",
            "Epoch 7/100\n",
            "\u001b[1m81/81\u001b[0m \u001b[32m━━━━━━━━━━━━━━━━━━━━\u001b[0m\u001b[37m\u001b[0m \u001b[1m1s\u001b[0m 13ms/step - accuracy: 0.8661 - loss: 0.3376 - val_accuracy: 0.4930 - val_loss: 2.9237\n",
            "Epoch 8/100\n",
            "\u001b[1m81/81\u001b[0m \u001b[32m━━━━━━━━━━━━━━━━━━━━\u001b[0m\u001b[37m\u001b[0m \u001b[1m1s\u001b[0m 13ms/step - accuracy: 0.8760 - loss: 0.3277 - val_accuracy: 0.4930 - val_loss: 5.4278\n",
            "Epoch 9/100\n",
            "\u001b[1m81/81\u001b[0m \u001b[32m━━━━━━━━━━━━━━━━━━━━\u001b[0m\u001b[37m\u001b[0m \u001b[1m1s\u001b[0m 14ms/step - accuracy: 0.8886 - loss: 0.3122 - val_accuracy: 0.4930 - val_loss: 4.2612\n",
            "Epoch 10/100\n",
            "\u001b[1m81/81\u001b[0m \u001b[32m━━━━━━━━━━━━━━━━━━━━\u001b[0m\u001b[37m\u001b[0m \u001b[1m1s\u001b[0m 13ms/step - accuracy: 0.8939 - loss: 0.3113 - val_accuracy: 0.4930 - val_loss: 0.7528\n",
            "Epoch 11/100\n",
            "\u001b[1m81/81\u001b[0m \u001b[32m━━━━━━━━━━━━━━━━━━━━\u001b[0m\u001b[37m\u001b[0m \u001b[1m1s\u001b[0m 13ms/step - accuracy: 0.8984 - loss: 0.2843 - val_accuracy: 0.4930 - val_loss: 5.9929\n",
            "Epoch 12/100\n",
            "\u001b[1m81/81\u001b[0m \u001b[32m━━━━━━━━━━━━━━━━━━━━\u001b[0m\u001b[37m\u001b[0m \u001b[1m1s\u001b[0m 14ms/step - accuracy: 0.8964 - loss: 0.2880 - val_accuracy: 0.4930 - val_loss: 9.2585\n",
            "Epoch 13/100\n",
            "\u001b[1m81/81\u001b[0m \u001b[32m━━━━━━━━━━━━━━━━━━━━\u001b[0m\u001b[37m\u001b[0m \u001b[1m1s\u001b[0m 16ms/step - accuracy: 0.9032 - loss: 0.2807 - val_accuracy: 0.4930 - val_loss: 4.3618\n",
            "Epoch 14/100\n",
            "\u001b[1m81/81\u001b[0m \u001b[32m━━━━━━━━━━━━━━━━━━━━\u001b[0m\u001b[37m\u001b[0m \u001b[1m1s\u001b[0m 16ms/step - accuracy: 0.9106 - loss: 0.2535 - val_accuracy: 0.4930 - val_loss: 2.9290\n",
            "Epoch 15/100\n",
            "\u001b[1m81/81\u001b[0m \u001b[32m━━━━━━━━━━━━━━━━━━━━\u001b[0m\u001b[37m\u001b[0m \u001b[1m1s\u001b[0m 15ms/step - accuracy: 0.9013 - loss: 0.2773 - val_accuracy: 0.4930 - val_loss: 5.1291\n",
            "Epoch 16/100\n",
            "\u001b[1m81/81\u001b[0m \u001b[32m━━━━━━━━━━━━━━━━━━━━\u001b[0m\u001b[37m\u001b[0m \u001b[1m1s\u001b[0m 15ms/step - accuracy: 0.9131 - loss: 0.2594 - val_accuracy: 0.4930 - val_loss: 4.7538\n",
            "Epoch 17/100\n",
            "\u001b[1m81/81\u001b[0m \u001b[32m━━━━━━━━━━━━━━━━━━━━\u001b[0m\u001b[37m\u001b[0m \u001b[1m1s\u001b[0m 14ms/step - accuracy: 0.9199 - loss: 0.2435 - val_accuracy: 0.4936 - val_loss: 1.5466\n",
            "Epoch 18/100\n",
            "\u001b[1m81/81\u001b[0m \u001b[32m━━━━━━━━━━━━━━━━━━━━\u001b[0m\u001b[37m\u001b[0m \u001b[1m1s\u001b[0m 14ms/step - accuracy: 0.8891 - loss: 0.2885 - val_accuracy: 0.4936 - val_loss: 1.7867\n",
            "Epoch 19/100\n",
            "\u001b[1m81/81\u001b[0m \u001b[32m━━━━━━━━━━━━━━━━━━━━\u001b[0m\u001b[37m\u001b[0m \u001b[1m1s\u001b[0m 13ms/step - accuracy: 0.9177 - loss: 0.2471 - val_accuracy: 0.4930 - val_loss: 10.2875\n",
            "Epoch 20/100\n",
            "\u001b[1m81/81\u001b[0m \u001b[32m━━━━━━━━━━━━━━━━━━━━\u001b[0m\u001b[37m\u001b[0m \u001b[1m1s\u001b[0m 13ms/step - accuracy: 0.9198 - loss: 0.2515 - val_accuracy: 0.4930 - val_loss: 18.1126\n",
            "Epoch 21/100\n",
            "\u001b[1m81/81\u001b[0m \u001b[32m━━━━━━━━━━━━━━━━━━━━\u001b[0m\u001b[37m\u001b[0m \u001b[1m1s\u001b[0m 14ms/step - accuracy: 0.9097 - loss: 0.2705 - val_accuracy: 0.4930 - val_loss: 4.8746\n",
            "Epoch 22/100\n",
            "\u001b[1m81/81\u001b[0m \u001b[32m━━━━━━━━━━━━━━━━━━━━\u001b[0m\u001b[37m\u001b[0m \u001b[1m1s\u001b[0m 14ms/step - accuracy: 0.9235 - loss: 0.2405 - val_accuracy: 0.4930 - val_loss: 7.8876\n",
            "Epoch 23/100\n",
            "\u001b[1m81/81\u001b[0m \u001b[32m━━━━━━━━━━━━━━━━━━━━\u001b[0m\u001b[37m\u001b[0m \u001b[1m1s\u001b[0m 14ms/step - accuracy: 0.9187 - loss: 0.2546 - val_accuracy: 0.4930 - val_loss: 7.3626\n",
            "Epoch 24/100\n",
            "\u001b[1m81/81\u001b[0m \u001b[32m━━━━━━━━━━━━━━━━━━━━\u001b[0m\u001b[37m\u001b[0m \u001b[1m1s\u001b[0m 16ms/step - accuracy: 0.9140 - loss: 0.2466 - val_accuracy: 0.4942 - val_loss: 1.8728\n",
            "Epoch 25/100\n",
            "\u001b[1m81/81\u001b[0m \u001b[32m━━━━━━━━━━━━━━━━━━━━\u001b[0m\u001b[37m\u001b[0m \u001b[1m1s\u001b[0m 16ms/step - accuracy: 0.9214 - loss: 0.2382 - val_accuracy: 0.6879 - val_loss: 0.4896\n",
            "Epoch 26/100\n",
            "\u001b[1m81/81\u001b[0m \u001b[32m━━━━━━━━━━━━━━━━━━━━\u001b[0m\u001b[37m\u001b[0m \u001b[1m1s\u001b[0m 14ms/step - accuracy: 0.9261 - loss: 0.2328 - val_accuracy: 0.4930 - val_loss: 9.0067\n",
            "Epoch 27/100\n",
            "\u001b[1m81/81\u001b[0m \u001b[32m━━━━━━━━━━━━━━━━━━━━\u001b[0m\u001b[37m\u001b[0m \u001b[1m1s\u001b[0m 15ms/step - accuracy: 0.9009 - loss: 0.2668 - val_accuracy: 0.4936 - val_loss: 4.5987\n",
            "Epoch 28/100\n",
            "\u001b[1m81/81\u001b[0m \u001b[32m━━━━━━━━━━━━━━━━━━━━\u001b[0m\u001b[37m\u001b[0m \u001b[1m1s\u001b[0m 14ms/step - accuracy: 0.9159 - loss: 0.2376 - val_accuracy: 0.4930 - val_loss: 16.0724\n",
            "Epoch 29/100\n",
            "\u001b[1m81/81\u001b[0m \u001b[32m━━━━━━━━━━━━━━━━━━━━\u001b[0m\u001b[37m\u001b[0m \u001b[1m1s\u001b[0m 16ms/step - accuracy: 0.9149 - loss: 0.2483 - val_accuracy: 0.4948 - val_loss: 1.1940\n",
            "Epoch 30/100\n",
            "\u001b[1m81/81\u001b[0m \u001b[32m━━━━━━━━━━━━━━━━━━━━\u001b[0m\u001b[37m\u001b[0m \u001b[1m1s\u001b[0m 15ms/step - accuracy: 0.9361 - loss: 0.2085 - val_accuracy: 0.8735 - val_loss: 0.3638\n",
            "Epoch 31/100\n",
            "\u001b[1m81/81\u001b[0m \u001b[32m━━━━━━━━━━━━━━━━━━━━\u001b[0m\u001b[37m\u001b[0m \u001b[1m1s\u001b[0m 14ms/step - accuracy: 0.9219 - loss: 0.2325 - val_accuracy: 0.4948 - val_loss: 0.8077\n",
            "Epoch 32/100\n",
            "\u001b[1m81/81\u001b[0m \u001b[32m━━━━━━━━━━━━━━━━━━━━\u001b[0m\u001b[37m\u001b[0m \u001b[1m1s\u001b[0m 15ms/step - accuracy: 0.9249 - loss: 0.2221 - val_accuracy: 0.4936 - val_loss: 4.3555\n",
            "Epoch 33/100\n",
            "\u001b[1m81/81\u001b[0m \u001b[32m━━━━━━━━━━━━━━━━━━━━\u001b[0m\u001b[37m\u001b[0m \u001b[1m1s\u001b[0m 15ms/step - accuracy: 0.9257 - loss: 0.2133 - val_accuracy: 0.4942 - val_loss: 2.1886\n",
            "Epoch 34/100\n",
            "\u001b[1m81/81\u001b[0m \u001b[32m━━━━━━━━━━━━━━━━━━━━\u001b[0m\u001b[37m\u001b[0m \u001b[1m1s\u001b[0m 15ms/step - accuracy: 0.9284 - loss: 0.2215 - val_accuracy: 0.4930 - val_loss: 12.8402\n",
            "Epoch 35/100\n",
            "\u001b[1m81/81\u001b[0m \u001b[32m━━━━━━━━━━━━━━━━━━━━\u001b[0m\u001b[37m\u001b[0m \u001b[1m1s\u001b[0m 15ms/step - accuracy: 0.9317 - loss: 0.2160 - val_accuracy: 0.4948 - val_loss: 0.6491\n",
            "Epoch 36/100\n",
            "\u001b[1m81/81\u001b[0m \u001b[32m━━━━━━━━━━━━━━━━━━━━\u001b[0m\u001b[37m\u001b[0m \u001b[1m1s\u001b[0m 14ms/step - accuracy: 0.9256 - loss: 0.2159 - val_accuracy: 0.4930 - val_loss: 9.8863\n",
            "Epoch 37/100\n",
            "\u001b[1m81/81\u001b[0m \u001b[32m━━━━━━━━━━━━━━━━━━━━\u001b[0m\u001b[37m\u001b[0m \u001b[1m1s\u001b[0m 15ms/step - accuracy: 0.9338 - loss: 0.2238 - val_accuracy: 0.4930 - val_loss: 9.9596\n",
            "Epoch 38/100\n",
            "\u001b[1m81/81\u001b[0m \u001b[32m━━━━━━━━━━━━━━━━━━━━\u001b[0m\u001b[37m\u001b[0m \u001b[1m1s\u001b[0m 13ms/step - accuracy: 0.9377 - loss: 0.2077 - val_accuracy: 0.4948 - val_loss: 0.7973\n",
            "Epoch 39/100\n",
            "\u001b[1m81/81\u001b[0m \u001b[32m━━━━━━━━━━━━━━━━━━━━\u001b[0m\u001b[37m\u001b[0m \u001b[1m1s\u001b[0m 15ms/step - accuracy: 0.9251 - loss: 0.2174 - val_accuracy: 0.4936 - val_loss: 4.3173\n",
            "Epoch 40/100\n",
            "\u001b[1m81/81\u001b[0m \u001b[32m━━━━━━━━━━━━━━━━━━━━\u001b[0m\u001b[37m\u001b[0m \u001b[1m1s\u001b[0m 13ms/step - accuracy: 0.9285 - loss: 0.2124 - val_accuracy: 0.4930 - val_loss: 8.1182\n",
            "Epoch 41/100\n",
            "\u001b[1m81/81\u001b[0m \u001b[32m━━━━━━━━━━━━━━━━━━━━\u001b[0m\u001b[37m\u001b[0m \u001b[1m1s\u001b[0m 13ms/step - accuracy: 0.9281 - loss: 0.2074 - val_accuracy: 0.4930 - val_loss: 12.7889\n",
            "Epoch 42/100\n",
            "\u001b[1m81/81\u001b[0m \u001b[32m━━━━━━━━━━━━━━━━━━━━\u001b[0m\u001b[37m\u001b[0m \u001b[1m1s\u001b[0m 13ms/step - accuracy: 0.9233 - loss: 0.2192 - val_accuracy: 0.4936 - val_loss: 4.2343\n",
            "Epoch 43/100\n",
            "\u001b[1m81/81\u001b[0m \u001b[32m━━━━━━━━━━━━━━━━━━━━\u001b[0m\u001b[37m\u001b[0m \u001b[1m1s\u001b[0m 13ms/step - accuracy: 0.9264 - loss: 0.2089 - val_accuracy: 0.4930 - val_loss: 11.5499\n",
            "Epoch 44/100\n",
            "\u001b[1m81/81\u001b[0m \u001b[32m━━━━━━━━━━━━━━━━━━━━\u001b[0m\u001b[37m\u001b[0m \u001b[1m1s\u001b[0m 15ms/step - accuracy: 0.9274 - loss: 0.2137 - val_accuracy: 0.4930 - val_loss: 18.1785\n",
            "Epoch 45/100\n",
            "\u001b[1m81/81\u001b[0m \u001b[32m━━━━━━━━━━━━━━━━━━━━\u001b[0m\u001b[37m\u001b[0m \u001b[1m1s\u001b[0m 15ms/step - accuracy: 0.9363 - loss: 0.2039 - val_accuracy: 0.4930 - val_loss: 8.0049\n",
            "Epoch 46/100\n",
            "\u001b[1m81/81\u001b[0m \u001b[32m━━━━━━━━━━━━━━━━━━━━\u001b[0m\u001b[37m\u001b[0m \u001b[1m2s\u001b[0m 14ms/step - accuracy: 0.9224 - loss: 0.2071 - val_accuracy: 0.8997 - val_loss: 0.2692\n",
            "Epoch 47/100\n",
            "\u001b[1m81/81\u001b[0m \u001b[32m━━━━━━━━━━━━━━━━━━━━\u001b[0m\u001b[37m\u001b[0m \u001b[1m1s\u001b[0m 13ms/step - accuracy: 0.9395 - loss: 0.1803 - val_accuracy: 0.4936 - val_loss: 4.7501\n",
            "Epoch 48/100\n",
            "\u001b[1m81/81\u001b[0m \u001b[32m━━━━━━━━━━━━━━━━━━━━\u001b[0m\u001b[37m\u001b[0m \u001b[1m1s\u001b[0m 14ms/step - accuracy: 0.9314 - loss: 0.2005 - val_accuracy: 0.4936 - val_loss: 3.6911\n",
            "Epoch 49/100\n",
            "\u001b[1m81/81\u001b[0m \u001b[32m━━━━━━━━━━━━━━━━━━━━\u001b[0m\u001b[37m\u001b[0m \u001b[1m1s\u001b[0m 14ms/step - accuracy: 0.9358 - loss: 0.1898 - val_accuracy: 0.4936 - val_loss: 3.6392\n",
            "Epoch 50/100\n",
            "\u001b[1m81/81\u001b[0m \u001b[32m━━━━━━━━━━━━━━━━━━━━\u001b[0m\u001b[37m\u001b[0m \u001b[1m1s\u001b[0m 13ms/step - accuracy: 0.9378 - loss: 0.1947 - val_accuracy: 0.4930 - val_loss: 10.1027\n",
            "Epoch 51/100\n",
            "\u001b[1m81/81\u001b[0m \u001b[32m━━━━━━━━━━━━━━━━━━━━\u001b[0m\u001b[37m\u001b[0m \u001b[1m1s\u001b[0m 13ms/step - accuracy: 0.9380 - loss: 0.1929 - val_accuracy: 0.4936 - val_loss: 6.1930\n",
            "Epoch 52/100\n",
            "\u001b[1m81/81\u001b[0m \u001b[32m━━━━━━━━━━━━━━━━━━━━\u001b[0m\u001b[37m\u001b[0m \u001b[1m1s\u001b[0m 15ms/step - accuracy: 0.9414 - loss: 0.1810 - val_accuracy: 0.4930 - val_loss: 13.1512\n",
            "Epoch 53/100\n",
            "\u001b[1m81/81\u001b[0m \u001b[32m━━━━━━━━━━━━━━━━━━━━\u001b[0m\u001b[37m\u001b[0m \u001b[1m1s\u001b[0m 15ms/step - accuracy: 0.9251 - loss: 0.2081 - val_accuracy: 0.4930 - val_loss: 14.3373\n",
            "Epoch 54/100\n",
            "\u001b[1m81/81\u001b[0m \u001b[32m━━━━━━━━━━━━━━━━━━━━\u001b[0m\u001b[37m\u001b[0m \u001b[1m1s\u001b[0m 16ms/step - accuracy: 0.9441 - loss: 0.1699 - val_accuracy: 0.4936 - val_loss: 3.8242\n",
            "Epoch 55/100\n",
            "\u001b[1m81/81\u001b[0m \u001b[32m━━━━━━━━━━━━━━━━━━━━\u001b[0m\u001b[37m\u001b[0m \u001b[1m2s\u001b[0m 13ms/step - accuracy: 0.9351 - loss: 0.2004 - val_accuracy: 0.4930 - val_loss: 13.5197\n",
            "Epoch 56/100\n",
            "\u001b[1m81/81\u001b[0m \u001b[32m━━━━━━━━━━━━━━━━━━━━\u001b[0m\u001b[37m\u001b[0m \u001b[1m1s\u001b[0m 13ms/step - accuracy: 0.9360 - loss: 0.1798 - val_accuracy: 0.4930 - val_loss: 17.2862\n",
            "Epoch 57/100\n",
            "\u001b[1m81/81\u001b[0m \u001b[32m━━━━━━━━━━━━━━━━━━━━\u001b[0m\u001b[37m\u001b[0m \u001b[1m1s\u001b[0m 14ms/step - accuracy: 0.9415 - loss: 0.1726 - val_accuracy: 0.4930 - val_loss: 17.5394\n",
            "Epoch 58/100\n",
            "\u001b[1m81/81\u001b[0m \u001b[32m━━━━━━━━━━━━━━━━━━━━\u001b[0m\u001b[37m\u001b[0m \u001b[1m1s\u001b[0m 15ms/step - accuracy: 0.9515 - loss: 0.1612 - val_accuracy: 0.4930 - val_loss: 8.2050\n",
            "Epoch 59/100\n",
            "\u001b[1m81/81\u001b[0m \u001b[32m━━━━━━━━━━━━━━━━━━━━\u001b[0m\u001b[37m\u001b[0m \u001b[1m1s\u001b[0m 13ms/step - accuracy: 0.9376 - loss: 0.1769 - val_accuracy: 0.4936 - val_loss: 6.5790\n",
            "Epoch 60/100\n",
            "\u001b[1m81/81\u001b[0m \u001b[32m━━━━━━━━━━━━━━━━━━━━\u001b[0m\u001b[37m\u001b[0m \u001b[1m1s\u001b[0m 13ms/step - accuracy: 0.9405 - loss: 0.1672 - val_accuracy: 0.4936 - val_loss: 5.6155\n",
            "Epoch 61/100\n",
            "\u001b[1m81/81\u001b[0m \u001b[32m━━━━━━━━━━━━━━━━━━━━\u001b[0m\u001b[37m\u001b[0m \u001b[1m1s\u001b[0m 13ms/step - accuracy: 0.9451 - loss: 0.1657 - val_accuracy: 0.4936 - val_loss: 4.4862\n",
            "Epoch 62/100\n",
            "\u001b[1m81/81\u001b[0m \u001b[32m━━━━━━━━━━━━━━━━━━━━\u001b[0m\u001b[37m\u001b[0m \u001b[1m1s\u001b[0m 13ms/step - accuracy: 0.9454 - loss: 0.1695 - val_accuracy: 0.9345 - val_loss: 0.2061\n",
            "Epoch 63/100\n",
            "\u001b[1m81/81\u001b[0m \u001b[32m━━━━━━━━━━━━━━━━━━━━\u001b[0m\u001b[37m\u001b[0m \u001b[1m1s\u001b[0m 15ms/step - accuracy: 0.9511 - loss: 0.1506 - val_accuracy: 0.5087 - val_loss: 1.3390\n",
            "Epoch 64/100\n",
            "\u001b[1m81/81\u001b[0m \u001b[32m━━━━━━━━━━━━━━━━━━━━\u001b[0m\u001b[37m\u001b[0m \u001b[1m1s\u001b[0m 16ms/step - accuracy: 0.9488 - loss: 0.1642 - val_accuracy: 0.4936 - val_loss: 4.7492\n",
            "Epoch 65/100\n",
            "\u001b[1m81/81\u001b[0m \u001b[32m━━━━━━━━━━━━━━━━━━━━\u001b[0m\u001b[37m\u001b[0m \u001b[1m2s\u001b[0m 14ms/step - accuracy: 0.9498 - loss: 0.1558 - val_accuracy: 0.4930 - val_loss: 18.9695\n",
            "Epoch 66/100\n",
            "\u001b[1m81/81\u001b[0m \u001b[32m━━━━━━━━━━━━━━━━━━━━\u001b[0m\u001b[37m\u001b[0m \u001b[1m1s\u001b[0m 15ms/step - accuracy: 0.9501 - loss: 0.1655 - val_accuracy: 0.7425 - val_loss: 0.5961\n",
            "Epoch 67/100\n",
            "\u001b[1m81/81\u001b[0m \u001b[32m━━━━━━━━━━━━━━━━━━━━\u001b[0m\u001b[37m\u001b[0m \u001b[1m1s\u001b[0m 13ms/step - accuracy: 0.9537 - loss: 0.1578 - val_accuracy: 0.5110 - val_loss: 1.4993\n",
            "Epoch 68/100\n",
            "\u001b[1m81/81\u001b[0m \u001b[32m━━━━━━━━━━━━━━━━━━━━\u001b[0m\u001b[37m\u001b[0m \u001b[1m1s\u001b[0m 13ms/step - accuracy: 0.9553 - loss: 0.1493 - val_accuracy: 0.5110 - val_loss: 1.8386\n",
            "Epoch 69/100\n",
            "\u001b[1m81/81\u001b[0m \u001b[32m━━━━━━━━━━━━━━━━━━━━\u001b[0m\u001b[37m\u001b[0m \u001b[1m1s\u001b[0m 13ms/step - accuracy: 0.9472 - loss: 0.1471 - val_accuracy: 0.4936 - val_loss: 5.7054\n",
            "Epoch 70/100\n",
            "\u001b[1m81/81\u001b[0m \u001b[32m━━━━━━━━━━━━━━━━━━━━\u001b[0m\u001b[37m\u001b[0m \u001b[1m1s\u001b[0m 13ms/step - accuracy: 0.9524 - loss: 0.1498 - val_accuracy: 0.5551 - val_loss: 0.7860\n",
            "Epoch 71/100\n",
            "\u001b[1m81/81\u001b[0m \u001b[32m━━━━━━━━━━━━━━━━━━━━\u001b[0m\u001b[37m\u001b[0m \u001b[1m1s\u001b[0m 14ms/step - accuracy: 0.9471 - loss: 0.1515 - val_accuracy: 0.5209 - val_loss: 1.8665\n",
            "Epoch 72/100\n",
            "\u001b[1m81/81\u001b[0m \u001b[32m━━━━━━━━━━━━━━━━━━━━\u001b[0m\u001b[37m\u001b[0m \u001b[1m1s\u001b[0m 14ms/step - accuracy: 0.9420 - loss: 0.1519 - val_accuracy: 0.4936 - val_loss: 7.3485\n",
            "Epoch 73/100\n",
            "\u001b[1m81/81\u001b[0m \u001b[32m━━━━━━━━━━━━━━━━━━━━\u001b[0m\u001b[37m\u001b[0m \u001b[1m1s\u001b[0m 16ms/step - accuracy: 0.9599 - loss: 0.1363 - val_accuracy: 0.4936 - val_loss: 5.9942\n",
            "Epoch 74/100\n",
            "\u001b[1m81/81\u001b[0m \u001b[32m━━━━━━━━━━━━━━━━━━━━\u001b[0m\u001b[37m\u001b[0m \u001b[1m1s\u001b[0m 16ms/step - accuracy: 0.9530 - loss: 0.1360 - val_accuracy: 0.4936 - val_loss: 5.0692\n",
            "Epoch 75/100\n",
            "\u001b[1m81/81\u001b[0m \u001b[32m━━━━━━━━━━━━━━━━━━━━\u001b[0m\u001b[37m\u001b[0m \u001b[1m2s\u001b[0m 15ms/step - accuracy: 0.9545 - loss: 0.1293 - val_accuracy: 0.8689 - val_loss: 0.3460\n",
            "Epoch 76/100\n",
            "\u001b[1m81/81\u001b[0m \u001b[32m━━━━━━━━━━━━━━━━━━━━\u001b[0m\u001b[37m\u001b[0m \u001b[1m1s\u001b[0m 13ms/step - accuracy: 0.9532 - loss: 0.1465 - val_accuracy: 0.4930 - val_loss: 13.6414\n",
            "Epoch 77/100\n",
            "\u001b[1m81/81\u001b[0m \u001b[32m━━━━━━━━━━━━━━━━━━━━\u001b[0m\u001b[37m\u001b[0m \u001b[1m1s\u001b[0m 13ms/step - accuracy: 0.9561 - loss: 0.1325 - val_accuracy: 0.9240 - val_loss: 0.2565\n",
            "Epoch 78/100\n",
            "\u001b[1m81/81\u001b[0m \u001b[32m━━━━━━━━━━━━━━━━━━━━\u001b[0m\u001b[37m\u001b[0m \u001b[1m1s\u001b[0m 14ms/step - accuracy: 0.9557 - loss: 0.1368 - val_accuracy: 0.4930 - val_loss: 8.2115\n",
            "Epoch 79/100\n",
            "\u001b[1m81/81\u001b[0m \u001b[32m━━━━━━━━━━━━━━━━━━━━\u001b[0m\u001b[37m\u001b[0m \u001b[1m1s\u001b[0m 13ms/step - accuracy: 0.9538 - loss: 0.1441 - val_accuracy: 0.4936 - val_loss: 3.5106\n",
            "Epoch 80/100\n",
            "\u001b[1m81/81\u001b[0m \u001b[32m━━━━━━━━━━━━━━━━━━━━\u001b[0m\u001b[37m\u001b[0m \u001b[1m1s\u001b[0m 14ms/step - accuracy: 0.9611 - loss: 0.1202 - val_accuracy: 0.4936 - val_loss: 5.7265\n",
            "Epoch 81/100\n",
            "\u001b[1m81/81\u001b[0m \u001b[32m━━━━━━━━━━━━━━━━━━━━\u001b[0m\u001b[37m\u001b[0m \u001b[1m1s\u001b[0m 13ms/step - accuracy: 0.9587 - loss: 0.1288 - val_accuracy: 0.8260 - val_loss: 0.4130\n",
            "Epoch 82/100\n",
            "\u001b[1m81/81\u001b[0m \u001b[32m━━━━━━━━━━━━━━━━━━━━\u001b[0m\u001b[37m\u001b[0m \u001b[1m1s\u001b[0m 15ms/step - accuracy: 0.9553 - loss: 0.1333 - val_accuracy: 0.5139 - val_loss: 1.7433\n",
            "Epoch 83/100\n",
            "\u001b[1m81/81\u001b[0m \u001b[32m━━━━━━━━━━━━━━━━━━━━\u001b[0m\u001b[37m\u001b[0m \u001b[1m1s\u001b[0m 16ms/step - accuracy: 0.9500 - loss: 0.1380 - val_accuracy: 0.8219 - val_loss: 0.4109\n",
            "Epoch 84/100\n",
            "\u001b[1m81/81\u001b[0m \u001b[32m━━━━━━━━━━━━━━━━━━━━\u001b[0m\u001b[37m\u001b[0m \u001b[1m1s\u001b[0m 16ms/step - accuracy: 0.9609 - loss: 0.1214 - val_accuracy: 0.4942 - val_loss: 3.7627\n",
            "Epoch 85/100\n",
            "\u001b[1m81/81\u001b[0m \u001b[32m━━━━━━━━━━━━━━━━━━━━\u001b[0m\u001b[37m\u001b[0m \u001b[1m1s\u001b[0m 15ms/step - accuracy: 0.9474 - loss: 0.1423 - val_accuracy: 0.7819 - val_loss: 0.3675\n",
            "Epoch 86/100\n",
            "\u001b[1m81/81\u001b[0m \u001b[32m━━━━━━━━━━━━━━━━━━━━\u001b[0m\u001b[37m\u001b[0m \u001b[1m1s\u001b[0m 13ms/step - accuracy: 0.9619 - loss: 0.1199 - val_accuracy: 0.8846 - val_loss: 0.2665\n",
            "Epoch 87/100\n",
            "\u001b[1m81/81\u001b[0m \u001b[32m━━━━━━━━━━━━━━━━━━━━\u001b[0m\u001b[37m\u001b[0m \u001b[1m1s\u001b[0m 13ms/step - accuracy: 0.9544 - loss: 0.1261 - val_accuracy: 0.4942 - val_loss: 1.8994\n",
            "Epoch 88/100\n",
            "\u001b[1m81/81\u001b[0m \u001b[32m━━━━━━━━━━━━━━━━━━━━\u001b[0m\u001b[37m\u001b[0m \u001b[1m1s\u001b[0m 15ms/step - accuracy: 0.9576 - loss: 0.1168 - val_accuracy: 0.8283 - val_loss: 0.3678\n",
            "Epoch 89/100\n",
            "\u001b[1m81/81\u001b[0m \u001b[32m━━━━━━━━━━━━━━━━━━━━\u001b[0m\u001b[37m\u001b[0m \u001b[1m1s\u001b[0m 15ms/step - accuracy: 0.9614 - loss: 0.1227 - val_accuracy: 0.9542 - val_loss: 0.1533\n",
            "Epoch 90/100\n",
            "\u001b[1m81/81\u001b[0m \u001b[32m━━━━━━━━━━━━━━━━━━━━\u001b[0m\u001b[37m\u001b[0m \u001b[1m1s\u001b[0m 16ms/step - accuracy: 0.9611 - loss: 0.1249 - val_accuracy: 0.4930 - val_loss: 21.7168\n",
            "Epoch 91/100\n",
            "\u001b[1m81/81\u001b[0m \u001b[32m━━━━━━━━━━━━━━━━━━━━\u001b[0m\u001b[37m\u001b[0m \u001b[1m1s\u001b[0m 15ms/step - accuracy: 0.9600 - loss: 0.1237 - val_accuracy: 0.4930 - val_loss: 13.1334\n",
            "Epoch 92/100\n",
            "\u001b[1m81/81\u001b[0m \u001b[32m━━━━━━━━━━━━━━━━━━━━\u001b[0m\u001b[37m\u001b[0m \u001b[1m1s\u001b[0m 14ms/step - accuracy: 0.9590 - loss: 0.1165 - val_accuracy: 0.4930 - val_loss: 7.2687\n",
            "Epoch 93/100\n",
            "\u001b[1m81/81\u001b[0m \u001b[32m━━━━━━━━━━━━━━━━━━━━\u001b[0m\u001b[37m\u001b[0m \u001b[1m1s\u001b[0m 17ms/step - accuracy: 0.9627 - loss: 0.1201 - val_accuracy: 0.4936 - val_loss: 8.4809\n",
            "Epoch 94/100\n",
            "\u001b[1m81/81\u001b[0m \u001b[32m━━━━━━━━━━━━━━━━━━━━\u001b[0m\u001b[37m\u001b[0m \u001b[1m1s\u001b[0m 16ms/step - accuracy: 0.9594 - loss: 0.1162 - val_accuracy: 0.4930 - val_loss: 33.0977\n",
            "Epoch 95/100\n",
            "\u001b[1m81/81\u001b[0m \u001b[32m━━━━━━━━━━━━━━━━━━━━\u001b[0m\u001b[37m\u001b[0m \u001b[1m1s\u001b[0m 15ms/step - accuracy: 0.9685 - loss: 0.1083 - val_accuracy: 0.4930 - val_loss: 9.6563\n",
            "Epoch 96/100\n",
            "\u001b[1m81/81\u001b[0m \u001b[32m━━━━━━━━━━━━━━━━━━━━\u001b[0m\u001b[37m\u001b[0m \u001b[1m1s\u001b[0m 15ms/step - accuracy: 0.9631 - loss: 0.1126 - val_accuracy: 0.4930 - val_loss: 31.6516\n",
            "Epoch 97/100\n",
            "\u001b[1m81/81\u001b[0m \u001b[32m━━━━━━━━━━━━━━━━━━━━\u001b[0m\u001b[37m\u001b[0m \u001b[1m1s\u001b[0m 13ms/step - accuracy: 0.9684 - loss: 0.1049 - val_accuracy: 0.4930 - val_loss: 10.2890\n",
            "Epoch 98/100\n",
            "\u001b[1m81/81\u001b[0m \u001b[32m━━━━━━━━━━━━━━━━━━━━\u001b[0m\u001b[37m\u001b[0m \u001b[1m1s\u001b[0m 14ms/step - accuracy: 0.9520 - loss: 0.1238 - val_accuracy: 0.4936 - val_loss: 4.9081\n",
            "Epoch 99/100\n",
            "\u001b[1m81/81\u001b[0m \u001b[32m━━━━━━━━━━━━━━━━━━━━\u001b[0m\u001b[37m\u001b[0m \u001b[1m1s\u001b[0m 13ms/step - accuracy: 0.9671 - loss: 0.1145 - val_accuracy: 0.4930 - val_loss: 19.4099\n",
            "Epoch 100/100\n",
            "\u001b[1m81/81\u001b[0m \u001b[32m━━━━━━━━━━━━━━━━━━━━\u001b[0m\u001b[37m\u001b[0m \u001b[1m1s\u001b[0m 14ms/step - accuracy: 0.9568 - loss: 0.1284 - val_accuracy: 0.4936 - val_loss: 6.5976\n"
          ]
        }
      ]
    },
    {
      "cell_type": "markdown",
      "source": [
        "## Hyperparameter Tuning"
      ],
      "metadata": {
        "id": "i_GqFeeQbmoD"
      }
    },
    {
      "cell_type": "markdown",
      "source": [
        "### Using Keras-Tuner"
      ],
      "metadata": {
        "id": "BYKK14Awbp3s"
      }
    },
    {
      "cell_type": "code",
      "source": [
        "!pip install keras-tuner"
      ],
      "metadata": {
        "colab": {
          "base_uri": "https://localhost:8080/"
        },
        "id": "0YiRfCpPn3uh",
        "outputId": "27b238ef-5e42-4f08-8f55-bb965917e79d"
      },
      "execution_count": null,
      "outputs": [
        {
          "output_type": "stream",
          "name": "stdout",
          "text": [
            "Collecting keras-tuner\n",
            "  Downloading keras_tuner-1.4.7-py3-none-any.whl.metadata (5.4 kB)\n",
            "Requirement already satisfied: keras in /usr/local/lib/python3.11/dist-packages (from keras-tuner) (3.8.0)\n",
            "Requirement already satisfied: packaging in /usr/local/lib/python3.11/dist-packages (from keras-tuner) (24.2)\n",
            "Requirement already satisfied: requests in /usr/local/lib/python3.11/dist-packages (from keras-tuner) (2.32.3)\n",
            "Collecting kt-legacy (from keras-tuner)\n",
            "  Downloading kt_legacy-1.0.5-py3-none-any.whl.metadata (221 bytes)\n",
            "Requirement already satisfied: absl-py in /usr/local/lib/python3.11/dist-packages (from keras->keras-tuner) (1.4.0)\n",
            "Requirement already satisfied: numpy in /usr/local/lib/python3.11/dist-packages (from keras->keras-tuner) (1.26.4)\n",
            "Requirement already satisfied: rich in /usr/local/lib/python3.11/dist-packages (from keras->keras-tuner) (13.9.4)\n",
            "Requirement already satisfied: namex in /usr/local/lib/python3.11/dist-packages (from keras->keras-tuner) (0.0.8)\n",
            "Requirement already satisfied: h5py in /usr/local/lib/python3.11/dist-packages (from keras->keras-tuner) (3.12.1)\n",
            "Requirement already satisfied: optree in /usr/local/lib/python3.11/dist-packages (from keras->keras-tuner) (0.14.1)\n",
            "Requirement already satisfied: ml-dtypes in /usr/local/lib/python3.11/dist-packages (from keras->keras-tuner) (0.4.1)\n",
            "Requirement already satisfied: charset-normalizer<4,>=2 in /usr/local/lib/python3.11/dist-packages (from requests->keras-tuner) (3.4.1)\n",
            "Requirement already satisfied: idna<4,>=2.5 in /usr/local/lib/python3.11/dist-packages (from requests->keras-tuner) (3.10)\n",
            "Requirement already satisfied: urllib3<3,>=1.21.1 in /usr/local/lib/python3.11/dist-packages (from requests->keras-tuner) (2.3.0)\n",
            "Requirement already satisfied: certifi>=2017.4.17 in /usr/local/lib/python3.11/dist-packages (from requests->keras-tuner) (2025.1.31)\n",
            "Requirement already satisfied: typing-extensions>=4.5.0 in /usr/local/lib/python3.11/dist-packages (from optree->keras->keras-tuner) (4.12.2)\n",
            "Requirement already satisfied: markdown-it-py>=2.2.0 in /usr/local/lib/python3.11/dist-packages (from rich->keras->keras-tuner) (3.0.0)\n",
            "Requirement already satisfied: pygments<3.0.0,>=2.13.0 in /usr/local/lib/python3.11/dist-packages (from rich->keras->keras-tuner) (2.18.0)\n",
            "Requirement already satisfied: mdurl~=0.1 in /usr/local/lib/python3.11/dist-packages (from markdown-it-py>=2.2.0->rich->keras->keras-tuner) (0.1.2)\n",
            "Downloading keras_tuner-1.4.7-py3-none-any.whl (129 kB)\n",
            "\u001b[2K   \u001b[90m━━━━━━━━━━━━━━━━━━━━━━━━━━━━━━━━━━━━━━━━\u001b[0m \u001b[32m129.1/129.1 kB\u001b[0m \u001b[31m7.0 MB/s\u001b[0m eta \u001b[36m0:00:00\u001b[0m\n",
            "\u001b[?25hDownloading kt_legacy-1.0.5-py3-none-any.whl (9.6 kB)\n",
            "Installing collected packages: kt-legacy, keras-tuner\n",
            "Successfully installed keras-tuner-1.4.7 kt-legacy-1.0.5\n"
          ]
        }
      ]
    },
    {
      "cell_type": "code",
      "source": [
        "import keras_tuner as kt\n",
        "from tensorflow.keras.optimizers import Adam\n",
        "from tensorflow.keras.utils import to_categorical\n",
        "\n",
        "def build_model(hp):\n",
        "    from EEGModels import EEGNet  # make sure EEGModels.py in currect directory\n",
        "    model = EEGNet(\n",
        "        nb_classes=2,\n",
        "        Chans=X.shape[1],\n",
        "        Samples=X.shape[2],\n",
        "        dropoutRate=hp.Float('dropout_rate', min_value=0.3, max_value=0.6, step=0.1),\n",
        "        kernLength=hp.Choice('kernLength', [32, 64, 128]),\n",
        "        F1=hp.Choice('F1', [2, 4, 6]),\n",
        "        D=hp.Choice('D', [3, 4, 5]),\n",
        "        F2=hp.Choice('F2', [16, 32, 64]),\n",
        "        norm_rate=0.3,\n",
        "        dropoutType='Dropout'\n",
        "    )\n",
        "\n",
        "    model.compile(\n",
        "        optimizer=Adam(learning_rate=hp.Choice('lr', [0.001, 0.0005, 0.0001])),\n",
        "        loss='categorical_crossentropy',\n",
        "        metrics=['accuracy']\n",
        "    )\n",
        "    return model\n"
      ],
      "metadata": {
        "id": "3uc9cpDslOUb"
      },
      "execution_count": null,
      "outputs": []
    },
    {
      "cell_type": "code",
      "source": [
        "tuner = kt.RandomSearch(\n",
        "    build_model,\n",
        "    objective='val_accuracy',\n",
        "    max_trials=5,\n",
        "    executions_per_trial=1,\n",
        "    directory='eegnet_tuning',\n",
        "    project_name='mdd_detection'\n",
        ")\n",
        "\n",
        "from tensorflow.keras.callbacks import EarlyStopping\n",
        "\n",
        "early_stop = EarlyStopping(monitor='val_accuracy',\n",
        "                           patience=10,\n",
        "                           restore_best_weights=True)\n",
        "\n",
        "tuner.search(X_train, y_train,\n",
        "             epochs=20,\n",
        "             validation_data=(X_val, y_val),\n",
        "             callbacks=[EarlyStopping(monitor='val_accuracy', patience=5)])\n"
      ],
      "metadata": {
        "colab": {
          "base_uri": "https://localhost:8080/"
        },
        "id": "Wh9_sOEYlPGC",
        "outputId": "a94ffea3-54df-42c8-fff4-d1a8cb49d401"
      },
      "execution_count": null,
      "outputs": [
        {
          "output_type": "stream",
          "name": "stdout",
          "text": [
            "Trial 5 Complete [00h 00m 30s]\n",
            "val_accuracy: 0.5214617252349854\n",
            "\n",
            "Best val_accuracy So Far: 0.7482598423957825\n",
            "Total elapsed time: 00h 02m 53s\n"
          ]
        }
      ]
    },
    {
      "cell_type": "markdown",
      "source": [
        "### Using For-Loops Manually"
      ],
      "metadata": {
        "id": "GBE0qe3qbtsV"
      }
    },
    {
      "cell_type": "code",
      "source": [
        "best_acc = 0\n",
        "best_params = {}\n",
        "\n",
        "for F1 in [8, 16]:\n",
        "    for D in [2, 4]:\n",
        "\n",
        "          model = EEGNet(nb_classes=2,\n",
        "                          Chans=X.shape[1],\n",
        "                          Samples=X.shape[2],\n",
        "                          F1=F1, D=D, F2=F1*D,\n",
        "                          dropoutRate=0.25,\n",
        "                          dropoutType='Dropout')\n",
        "\n",
        "          model.compile(loss='categorical_crossentropy',\n",
        "                        optimizer=Adam(learning_rate=0.001),\n",
        "                        metrics=['accuracy'])\n",
        "\n",
        "          history = model.fit(X_train, y_train,\n",
        "                              batch_size=32,\n",
        "                              epochs=30,\n",
        "                              verbose=0,\n",
        "                              validation_data=(X_val, y_val))\n",
        "\n",
        "          val_acc = history.history['val_accuracy'][-1]\n",
        "          print(f\"F1={F1}, D={D}, val_acc={val_acc:.4f}\")\n",
        "\n",
        "          if val_acc > best_acc:\n",
        "              best_acc = val_acc\n",
        "              best_params = {'F1': F1, 'D': D}\n",
        "\n",
        "print(\"Best Params:\", best_params)\n",
        "print(\"Best Val Acc:\", best_acc)\n"
      ],
      "metadata": {
        "colab": {
          "base_uri": "https://localhost:8080/"
        },
        "id": "rSy8bdOBgeHo",
        "outputId": "848cd633-1cb2-4adb-a26f-7deb09d63dee"
      },
      "execution_count": null,
      "outputs": [
        {
          "output_type": "stream",
          "name": "stdout",
          "text": [
            "F1=8, D=2, val_acc=0.4930\n",
            "F1=8, D=4, val_acc=0.4942\n",
            "F1=16, D=2, val_acc=0.4942\n",
            "F1=16, D=4, val_acc=0.8219\n",
            "Best Params: {'F1': 16, 'D': 4}\n",
            "Best Val Acc: 0.8219257593154907\n"
          ]
        }
      ]
    },
    {
      "cell_type": "markdown",
      "source": [
        "## Validation Performance"
      ],
      "metadata": {
        "id": "d10_6PFgcCce"
      }
    },
    {
      "cell_type": "code",
      "source": [
        "score = model.evaluate(X_val, y_val, verbose=0)\n",
        "print(f'Test loss: {score[0]}')\n",
        "print(f'Test accuracy: {score[1]}')\n",
        "\n",
        "# Confusion Matrix\n",
        "import numpy as np\n",
        "from sklearn.metrics import confusion_matrix\n",
        "import seaborn as sns\n",
        "import matplotlib.pyplot as plt\n",
        "\n",
        "y_pred = np.argmax(model.predict(X_val), axis=1)\n",
        "y_true = np.argmax(y_val, axis=1)\n",
        "\n",
        "cm = confusion_matrix(y_true, y_pred)\n",
        "sns.heatmap(cm, annot=True, fmt='d', cmap='Blues',\n",
        "            xticklabels=['H', 'MDD'],\n",
        "            yticklabels=['H', 'MDD'])\n",
        "plt.xlabel('Predicted')\n",
        "plt.ylabel('True')\n",
        "plt.title('Confusion Matrix')\n",
        "plt.show()\n"
      ],
      "metadata": {
        "colab": {
          "base_uri": "https://localhost:8080/",
          "height": 524
        },
        "id": "GlbEK5DaDdtS",
        "outputId": "d02ff16c-c659-4645-f640-36094839eb35"
      },
      "execution_count": null,
      "outputs": [
        {
          "output_type": "stream",
          "name": "stdout",
          "text": [
            "Test loss: 0.38601458072662354\n",
            "Test accuracy: 0.8219257593154907\n",
            "\u001b[1m54/54\u001b[0m \u001b[32m━━━━━━━━━━━━━━━━━━━━\u001b[0m\u001b[37m\u001b[0m \u001b[1m1s\u001b[0m 13ms/step\n"
          ]
        },
        {
          "output_type": "display_data",
          "data": {
            "text/plain": [
              "<Figure size 640x480 with 2 Axes>"
            ],
            "image/png": "[encoded data removed]"
          },
          "metadata": {}
        }
      ]
    },
    {
      "cell_type": "code",
      "source": [
        "import matplotlib.pyplot as plt\n",
        "\n",
        "plt.plot(history.history['accuracy'], label='Train Acc')\n",
        "plt.plot(history.history['val_accuracy'], label='Val Acc')\n",
        "plt.xlabel('Epoch')\n",
        "plt.ylabel('Accuracy')\n",
        "plt.legend()\n",
        "plt.title('EEGNet Accuracy Curve')\n",
        "plt.grid()\n",
        "plt.show()\n"
      ],
      "metadata": {
        "colab": {
          "base_uri": "https://localhost:8080/",
          "height": 472
        },
        "id": "YWrhYpPLDM1j",
        "outputId": "42a45750-bc39-406d-c9c7-6c748c6c1a4c"
      },
      "execution_count": null,
      "outputs": [
        {
          "output_type": "display_data",
          "data": {
            "text/plain": [
              "<Figure size 640x480 with 1 Axes>"
            ],
            "image/png": "[encoded data removed]"
          },
          "metadata": {}
        }
      ]
    }
  ]
}