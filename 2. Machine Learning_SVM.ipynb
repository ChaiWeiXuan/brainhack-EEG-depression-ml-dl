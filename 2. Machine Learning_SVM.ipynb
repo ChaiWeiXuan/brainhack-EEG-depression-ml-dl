{
 "cells": [
  {
   "cell_type": "markdown",
   "id": "728e7c53-30fb-4d1d-b8db-098edb6090b2",
   "metadata": {},
   "source": [
    "# SVM"
   ]
  },
  {
   "cell_type": "markdown",
   "id": "359a96a5-902e-4ca9-b124-15142ee70f74",
   "metadata": {},
   "source": [
    "## Load Preprocessed Features and Labels"
   ]
  },
  {
   "cell_type": "code",
   "execution_count": 1,
   "id": "c2f2d8e3-b6ff-4af5-a531-de3bc7bf8c02",
   "metadata": {},
   "outputs": [
    {
     "name": "stdout",
     "output_type": "stream",
     "text": [
      "(4308, 19, 1025)\n",
      "(4308, 95)\n",
      "(4308,)\n"
     ]
    }
   ],
   "source": [
    "import os\n",
    "data_dir = os.path.abspath('/home/vhyun/Brainhack/project')\n",
    "\n",
    "import numpy as np\n",
    "X_epochs = np.load(\"X_epochs_data.npy\")         # shape: n_epochs=4308, n_channels=19, n_times=1025\n",
    "X_features = np.load(\"X_features.npy\")          # shape: n_epochs=4308, n_bandpower_features=95\n",
    "y_labels = np.load(\"y_epoch_labels.npy\")        # shape: n_epochs=4308,\n",
    "\n",
    "print(X_epochs.shape)\n",
    "print(X_features.shape)\n",
    "print(y_labels.shape)"
   ]
  },
  {
   "cell_type": "code",
   "execution_count": 2,
   "id": "b34b0eec-4eb0-486d-90f1-7851ab53465b",
   "metadata": {},
   "outputs": [
    {
     "name": "stdout",
     "output_type": "stream",
     "text": [
      "Train size: 2584\n",
      "Validation size: 1724\n"
     ]
    }
   ],
   "source": [
    "from sklearn.model_selection import train_test_split\n",
    "\n",
    "X_train, X_val, y_train, y_val = train_test_split(\n",
    "    X_features,      \n",
    "    y_labels,       \n",
    "    test_size=0.4,     # train size:validation size = 60:40\n",
    "    shuffle=True,\n",
    "    stratify=y_labels, \n",
    "    random_state=123\n",
    ")\n",
    "\n",
    "print(\"Train size:\", len(X_train))     # Train size: 2584\n",
    "print(\"Validation size:\", len(X_val))     # Validation size: 1724"
   ]
  },
  {
   "cell_type": "markdown",
   "id": "ca85640d-9c79-4526-907e-b1e0ccac7318",
   "metadata": {},
   "source": [
    "## SVM (kfold=10)"
   ]
  },
  {
   "cell_type": "code",
   "execution_count": 3,
   "id": "6ec24d45-bf2b-4017-814d-cf6561a37184",
   "metadata": {},
   "outputs": [],
   "source": [
    "# from sklearn.feature_selection import SelectPercentile, f_regression\n",
    "from sklearn.feature_selection import SelectPercentile, f_classif\n",
    "from sklearn.model_selection import KFold\n",
    "from sklearn.pipeline import Pipeline\n",
    "from sklearn.svm import SVC\n",
    "from sklearn.preprocessing import StandardScaler\n",
    "\n",
    "# Build a tiny pipeline that does feature selection (top 20% of features), \n",
    "# and then prediction with our linear svr model.\n",
    "model = Pipeline([\n",
    "        ('scaler', StandardScaler()),\n",
    "        # ('feature_selection',SelectPercentile(f_classif,percentile=20)),\n",
    "        ('prediction', SVC(kernel='linear', C=100, gamma=1))\n",
    "                 ])\n",
    "\n",
    "y_pred = [] # a container to catch the predictions from each fold\n",
    "y_index = [] # just in case, the index for each prediction\n",
    "\n",
    "# First we create 10 splits of the data\n",
    "skf = KFold(n_splits=10, shuffle=True, random_state=123)\n",
    "\n",
    "# For each split, assemble the train and test samples \n",
    "for tr_ind, te_ind in skf.split(X_train):\n",
    "    X_tr = X_train[tr_ind]\n",
    "    y_tr = y_train[tr_ind]\n",
    "    X_te = X_train[te_ind]\n",
    "    y_index += list(te_ind) # store the index of samples to predict\n",
    "    \n",
    "    # and run our pipeline \n",
    "    model.fit(X_tr, y_tr) # fit the data to the model using our mini pipeline\n",
    "    predictions = model.predict(X_te).tolist() # get the predictions for this fold\n",
    "    y_pred += predictions # add them to the list of predictions"
   ]
  },
  {
   "cell_type": "code",
   "execution_count": 4,
   "id": "bb5a988f-980e-4fe3-933f-327f584e717e",
   "metadata": {},
   "outputs": [
    {
     "name": "stdout",
     "output_type": "stream",
     "text": [
      "ACC: 0.9585913312693498\n"
     ]
    }
   ],
   "source": [
    "from sklearn.metrics import accuracy_score\n",
    "\n",
    "acc = accuracy_score(y_train[y_index], y_pred)\n",
    "\n",
    "print('ACC:',acc)"
   ]
  },
  {
   "cell_type": "code",
   "execution_count": 5,
   "id": "1d9431f8-d540-4314-a851-4935c1ca0188",
   "metadata": {},
   "outputs": [
    {
     "data": {
      "image/png": "[encoded data removed]",
      "text/plain": [
       "<Figure size 640x480 with 2 Axes>"
      ]
     },
     "metadata": {},
     "output_type": "display_data"
    }
   ],
   "source": [
    "import seaborn as sns\n",
    "import matplotlib.pyplot as plt\n",
    "from sklearn.metrics import confusion_matrix\n",
    "\n",
    "cm = confusion_matrix(y_train[y_index], y_pred)\n",
    "\n",
    "sns.heatmap(cm, annot=True, fmt='d', cmap='Blues',\n",
    "            xticklabels=['H', 'MDD'],\n",
    "            yticklabels=['H', 'MDD'])\n",
    "plt.xlabel('Predicted Group')\n",
    "plt.ylabel('Group')\n",
    "plt.show()"
   ]
  },
  {
   "cell_type": "markdown",
   "id": "a7ce7f5d-7dce-4b3c-b95f-8e7ab746949c",
   "metadata": {},
   "source": [
    "### Hyperparameter tuning using GridSearchCV"
   ]
  },
  {
   "cell_type": "code",
   "execution_count": null,
   "id": "622324f8-4ab1-4135-ad31-43589587f72b",
   "metadata": {},
   "outputs": [],
   "source": [
    "from sklearn.model_selection import GridSearchCV\n",
    "\n",
    "param_grid = {\n",
    "    'prediction__C': 10. ** np.arange(-3, 8),\n",
    "    'prediction__gamma': 10. ** np.arange(-3, 8)\n",
    "}\n",
    "\n",
    "grid = GridSearchCV(model, param_grid=param_grid, cv=10)\n",
    "\n",
    "grid.fit(X_train, y_train)\n",
    "\n",
    "print(grid.best_params_)"
   ]
  },
  {
   "cell_type": "markdown",
   "id": "5c22e239-da1d-46f3-be04-20158b1d8e6d",
   "metadata": {},
   "source": [
    "## SVM + Feature Selection using SelectPercentile (kfold=10)"
   ]
  },
  {
   "cell_type": "code",
   "execution_count": 18,
   "id": "fb96b6cf-7c18-4d56-8b1a-9ef5cf127bd8",
   "metadata": {},
   "outputs": [],
   "source": [
    "# from sklearn.feature_selection import SelectPercentile, f_regression\n",
    "from sklearn.feature_selection import SelectPercentile, f_classif\n",
    "from sklearn.model_selection import KFold\n",
    "from sklearn.pipeline import Pipeline\n",
    "from sklearn.svm import SVC\n",
    "from sklearn.preprocessing import StandardScaler\n",
    "\n",
    "# Build a tiny pipeline that does feature selection (top 20% of features), \n",
    "# and then prediction with our linear svr model.\n",
    "model = Pipeline([\n",
    "        ('scaler', StandardScaler()),\n",
    "        ('feature_selection',SelectPercentile(f_classif,percentile=20)),\n",
    "        ('prediction', SVC(kernel='linear', C=100, gamma=1))\n",
    "                 ])\n",
    "\n",
    "y_pred = [] # a container to catch the predictions from each fold\n",
    "y_index = [] # just in case, the index for each prediction\n",
    "\n",
    "# First we create 10 splits of the data\n",
    "skf = KFold(n_splits=10, shuffle=True, random_state=123)\n",
    "\n",
    "# For each split, assemble the train and test samples \n",
    "for tr_ind, te_ind in skf.split(X_train):\n",
    "    X_tr = X_train[tr_ind]\n",
    "    y_tr = y_train[tr_ind]\n",
    "    X_te = X_train[te_ind]\n",
    "    y_index += list(te_ind) # store the index of samples to predict\n",
    "    \n",
    "    # and run our pipeline \n",
    "    model.fit(X_tr, y_tr) # fit the data to the model using our mini pipeline\n",
    "    predictions = model.predict(X_te).tolist() # get the predictions for this fold\n",
    "    y_pred += predictions # add them to the list of predictions"
   ]
  },
  {
   "cell_type": "code",
   "execution_count": 19,
   "id": "19eca80d-702f-48f2-98ca-452c7d65dec8",
   "metadata": {},
   "outputs": [
    {
     "name": "stdout",
     "output_type": "stream",
     "text": [
      "ACC: 0.8777089783281734\n"
     ]
    }
   ],
   "source": [
    "from sklearn.metrics import accuracy_score\n",
    "\n",
    "acc = accuracy_score(y_train[y_index], y_pred)\n",
    "\n",
    "print('ACC:',acc)"
   ]
  },
  {
   "cell_type": "code",
   "execution_count": 20,
   "id": "81e56bfe-5b82-4510-8c25-98f336c227a7",
   "metadata": {},
   "outputs": [
    {
     "data": {
      "image/png": "[encoded data removed]",
      "text/plain": [
       "<Figure size 640x480 with 2 Axes>"
      ]
     },
     "metadata": {},
     "output_type": "display_data"
    }
   ],
   "source": [
    "import seaborn as sns\n",
    "import matplotlib.pyplot as plt\n",
    "from sklearn.metrics import confusion_matrix\n",
    "\n",
    "cm = confusion_matrix(y_train[y_index], y_pred)\n",
    "\n",
    "sns.heatmap(cm, annot=True, fmt='d', cmap='Blues',\n",
    "            xticklabels=['H', 'MDD'],\n",
    "            yticklabels=['H', 'MDD'])\n",
    "plt.xlabel('Predicted Group')\n",
    "plt.ylabel('Group')\n",
    "plt.show()"
   ]
  },
  {
   "cell_type": "markdown",
   "id": "13e040da-e003-4bc7-b5d6-8903f5ac5e7e",
   "metadata": {},
   "source": [
    "## SVM + Feature Selection using SelectKBest (kfold=10)"
   ]
  },
  {
   "cell_type": "code",
   "execution_count": 30,
   "id": "7f782699-80e0-4aa5-9200-ec0ac1dad165",
   "metadata": {},
   "outputs": [],
   "source": [
    "from sklearn.feature_selection import SelectKBest\n",
    "from sklearn.model_selection import KFold\n",
    "from sklearn.pipeline import Pipeline\n",
    "from sklearn.decomposition import PCA\n",
    "\n",
    "model = Pipeline([\n",
    "        ('scaler', StandardScaler()),\n",
    "        ('feature_selection', SelectKBest(f_classif, k=50)),\n",
    "        ('prediction', SVC(kernel='linear', C=100, gamma=1))\n",
    "                 ])\n",
    "\n",
    "y_pred = [] # a container to catch the predictions from each fold\n",
    "y_index = [] # just in case, the index for each prediction\n",
    "\n",
    "# First we create 10 splits of the data\n",
    "skf = KFold(n_splits=10, shuffle=True, random_state=123)\n",
    "\n",
    "# For each split, assemble the train and test samples \n",
    "for tr_ind, te_ind in skf.split(X_train):\n",
    "    X_tr = X_train[tr_ind]\n",
    "    y_tr = y_train[tr_ind]\n",
    "    X_te = X_train[te_ind]\n",
    "    y_index += list(te_ind) # store the index of samples to predict\n",
    "    \n",
    "    # and run our pipeline \n",
    "    model.fit(X_tr, y_tr) # fit the data to the model using our mini pipeline\n",
    "    predictions = model.predict(X_te).tolist() # get the predictions for this fold\n",
    "    y_pred += predictions # add them to the list of predictions"
   ]
  },
  {
   "cell_type": "code",
   "execution_count": 31,
   "id": "5e6d3019-abb7-4e06-add3-3ec3f246195f",
   "metadata": {},
   "outputs": [
    {
     "name": "stdout",
     "output_type": "stream",
     "text": [
      "ACC: 0.9202786377708978\n"
     ]
    }
   ],
   "source": [
    "from sklearn.metrics import accuracy_score\n",
    "\n",
    "acc = accuracy_score(y_train[y_index], y_pred)\n",
    "\n",
    "print('ACC:',acc)"
   ]
  },
  {
   "cell_type": "code",
   "execution_count": 32,
   "id": "0d5cdbbd-3031-4e26-962c-43ba8669c4f7",
   "metadata": {},
   "outputs": [
    {
     "data": {
      "image/png": "[encoded data removed]",
      "text/plain": [
       "<Figure size 640x480 with 2 Axes>"
      ]
     },
     "metadata": {},
     "output_type": "display_data"
    }
   ],
   "source": [
    "from sklearn.metrics import confusion_matrix\n",
    "\n",
    "cm = confusion_matrix(y_train[y_index], y_pred)\n",
    "\n",
    "sns.heatmap(cm, annot=True, fmt='d', cmap='Blues',\n",
    "            xticklabels=['H', 'MDD'],\n",
    "            yticklabels=['H', 'MDD'])\n",
    "plt.xlabel('Predicted Group')\n",
    "plt.ylabel('Group')\n",
    "plt.show()"
   ]
  },
  {
   "cell_type": "markdown",
   "id": "99bff906-2d1b-4f78-9cc4-0a040c631773",
   "metadata": {},
   "source": [
    "## SVM + Dimension Reduction using PCA (kfold=10)"
   ]
  },
  {
   "cell_type": "code",
   "execution_count": 33,
   "id": "3da6e093-03ea-4182-a763-eda55f1c9b2b",
   "metadata": {},
   "outputs": [],
   "source": [
    "# from sklearn.feature_selection import SelectPercentile, f_regression\n",
    "from sklearn.model_selection import KFold\n",
    "from sklearn.pipeline import Pipeline\n",
    "from sklearn.decomposition import PCA\n",
    "\n",
    "model = Pipeline([\n",
    "        ('scaler', StandardScaler()),\n",
    "        #('feature_selection',SelectPercentile(f_classif,percentile=20)),\n",
    "        ('dim_reduction', PCA(n_components=10, random_state=123)),\n",
    "        ('prediction', SVC(kernel='linear', C=100, gamma=1))\n",
    "                 ])\n",
    "\n",
    "y_pred = [] # a container to catch the predictions from each fold\n",
    "y_index = [] # just in case, the index for each prediction\n",
    "\n",
    "# First we create 10 splits of the data\n",
    "skf = KFold(n_splits=10, shuffle=True, random_state=123)\n",
    "\n",
    "# For each split, assemble the train and test samples \n",
    "for tr_ind, te_ind in skf.split(X_train):\n",
    "    X_tr = X_train[tr_ind]\n",
    "    y_tr = y_train[tr_ind]\n",
    "    X_te = X_train[te_ind]\n",
    "    y_index += list(te_ind) # store the index of samples to predict\n",
    "    \n",
    "    # and run our pipeline \n",
    "    model.fit(X_tr, y_tr) # fit the data to the model using our mini pipeline\n",
    "    predictions = model.predict(X_te).tolist() # get the predictions for this fold\n",
    "    y_pred += predictions # add them to the list of predictions\n"
   ]
  },
  {
   "cell_type": "code",
   "execution_count": 34,
   "id": "ad1a6e67-9db7-494e-ac37-4c398cdc7fe8",
   "metadata": {},
   "outputs": [
    {
     "name": "stdout",
     "output_type": "stream",
     "text": [
      "ACC: 0.8459752321981424\n"
     ]
    }
   ],
   "source": [
    "from sklearn.metrics import accuracy_score\n",
    "\n",
    "acc = accuracy_score(y_train[y_index], y_pred)\n",
    "\n",
    "print('ACC:',acc)"
   ]
  },
  {
   "cell_type": "code",
   "execution_count": 35,
   "id": "e4307096-974b-42e8-b218-4dc7dd5aa685",
   "metadata": {},
   "outputs": [
    {
     "data": {
      "image/png": "[encoded data removed]",
      "text/plain": [
       "<Figure size 640x480 with 2 Axes>"
      ]
     },
     "metadata": {},
     "output_type": "display_data"
    }
   ],
   "source": [
    "from sklearn.metrics import confusion_matrix\n",
    "\n",
    "cm = confusion_matrix(y_train[y_index], y_pred)\n",
    "\n",
    "sns.heatmap(cm, annot=True, fmt='d', cmap='Blues',\n",
    "            xticklabels=['H', 'MDD'],\n",
    "            yticklabels=['H', 'MDD'])\n",
    "plt.xlabel('Predicted Group')\n",
    "plt.ylabel('Group')\n",
    "plt.show()"
   ]
  },
  {
   "cell_type": "code",
   "execution_count": null,
   "id": "c92fc827-83e5-44ee-bad0-2edab6dbfc2f",
   "metadata": {},
   "outputs": [],
   "source": []
  }
 ],
 "metadata": {
  "kernelspec": {
   "display_name": "Python (brainhack)",
   "language": "python",
   "name": "brainhack"
  },
  "language_info": {
   "codemirror_mode": {
    "name": "ipython",
    "version": 3
   },
   "file_extension": ".py",
   "mimetype": "text/x-python",
   "name": "python",
   "nbconvert_exporter": "python",
   "pygments_lexer": "ipython3",
   "version": "3.9.21"
  }
 },
 "nbformat": 4,
 "nbformat_minor": 5
}
